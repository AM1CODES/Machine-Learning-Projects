{
 "metadata": {
  "language_info": {
   "codemirror_mode": {
    "name": "ipython",
    "version": 3
   },
   "file_extension": ".py",
   "mimetype": "text/x-python",
   "name": "python",
   "nbconvert_exporter": "python",
   "pygments_lexer": "ipython3",
   "version": "3.7.4-final"
  },
  "orig_nbformat": 2,
  "kernelspec": {
   "name": "Python 3.7.4 64-bit ('base': conda)",
   "display_name": "Python 3.7.4 64-bit ('base': conda)",
   "metadata": {
    "interpreter": {
     "hash": "a8f61be024eba58adef938c9aa1e29e02cb3dece83a5348b1a2dafd16a070453"
    }
   }
  }
 },
 "nbformat": 4,
 "nbformat_minor": 2,
 "cells": [
  {
   "source": [
    "# CERVICAL CANCER RISK PREDICTION IN WOMEN\n",
    "\n",
    "Every year, just in India alone, around 122,000 women are diagnosed with cervical cancer, out of which around 67,000 die succumb to the disease. One of the primary reasons why the disease is so deadly is because cervical cancer is hard to detect, and the patient is usually diagnosed only in the later stages of the cancer.\n",
    "\n",
    "This aim of this project is to create a binary classifier that is able to tell whether a woman is at the risk of cervical cancer or not. So let's begin by first importing all the necessary project dependencies.\n",
    "\n",
    "## Importing Project Dependencies"
   ],
   "cell_type": "markdown",
   "metadata": {}
  },
  {
   "cell_type": "code",
   "execution_count": 1,
   "metadata": {},
   "outputs": [],
   "source": [
    "import numpy as np \n",
    "import pandas as pd \n",
    "import matplotlib.pyplot as plt\n",
    "import seaborn as sns"
   ]
  },
  {
   "source": [
    "Now, let us import the dataset."
   ],
   "cell_type": "markdown",
   "metadata": {}
  },
  {
   "cell_type": "code",
   "execution_count": 2,
   "metadata": {},
   "outputs": [
    {
     "output_type": "execute_result",
     "data": {
      "text/plain": [
       "   Age  Number of sexual partners  First sexual intercourse  \\\n",
       "0   18                        4.0                      15.0   \n",
       "1   15                        1.0                      14.0   \n",
       "2   34                        1.0                       NaN   \n",
       "3   52                        5.0                      16.0   \n",
       "4   46                        3.0                      21.0   \n",
       "\n",
       "   Num of pregnancies  Smokes  Smokes (years)  Smokes (packs/year)  \\\n",
       "0                 1.0     0.0             0.0                  0.0   \n",
       "1                 1.0     0.0             0.0                  0.0   \n",
       "2                 1.0     0.0             0.0                  0.0   \n",
       "3                 4.0     1.0            37.0                 37.0   \n",
       "4                 4.0     0.0             0.0                  0.0   \n",
       "\n",
       "   Hormonal Contraceptives  Hormonal Contraceptives (years)  IUD  ...  \\\n",
       "0                      0.0                              0.0  0.0  ...   \n",
       "1                      0.0                              0.0  0.0  ...   \n",
       "2                      0.0                              0.0  0.0  ...   \n",
       "3                      1.0                              3.0  0.0  ...   \n",
       "4                      1.0                             15.0  0.0  ...   \n",
       "\n",
       "   STDs: Time since first diagnosis  STDs: Time since last diagnosis  \\\n",
       "0                               NaN                              NaN   \n",
       "1                               NaN                              NaN   \n",
       "2                               NaN                              NaN   \n",
       "3                               NaN                              NaN   \n",
       "4                               NaN                              NaN   \n",
       "\n",
       "   Dx:Cancer  Dx:CIN  Dx:HPV  Dx  Hinselmann  Schiller  Citology  Biopsy  \n",
       "0          0       0       0   0           0         0         0       0  \n",
       "1          0       0       0   0           0         0         0       0  \n",
       "2          0       0       0   0           0         0         0       0  \n",
       "3          1       0       1   0           0         0         0       0  \n",
       "4          0       0       0   0           0         0         0       0  \n",
       "\n",
       "[5 rows x 36 columns]"
      ],
      "text/html": "<div>\n<style scoped>\n    .dataframe tbody tr th:only-of-type {\n        vertical-align: middle;\n    }\n\n    .dataframe tbody tr th {\n        vertical-align: top;\n    }\n\n    .dataframe thead th {\n        text-align: right;\n    }\n</style>\n<table border=\"1\" class=\"dataframe\">\n  <thead>\n    <tr style=\"text-align: right;\">\n      <th></th>\n      <th>Age</th>\n      <th>Number of sexual partners</th>\n      <th>First sexual intercourse</th>\n      <th>Num of pregnancies</th>\n      <th>Smokes</th>\n      <th>Smokes (years)</th>\n      <th>Smokes (packs/year)</th>\n      <th>Hormonal Contraceptives</th>\n      <th>Hormonal Contraceptives (years)</th>\n      <th>IUD</th>\n      <th>...</th>\n      <th>STDs: Time since first diagnosis</th>\n      <th>STDs: Time since last diagnosis</th>\n      <th>Dx:Cancer</th>\n      <th>Dx:CIN</th>\n      <th>Dx:HPV</th>\n      <th>Dx</th>\n      <th>Hinselmann</th>\n      <th>Schiller</th>\n      <th>Citology</th>\n      <th>Biopsy</th>\n    </tr>\n  </thead>\n  <tbody>\n    <tr>\n      <td>0</td>\n      <td>18</td>\n      <td>4.0</td>\n      <td>15.0</td>\n      <td>1.0</td>\n      <td>0.0</td>\n      <td>0.0</td>\n      <td>0.0</td>\n      <td>0.0</td>\n      <td>0.0</td>\n      <td>0.0</td>\n      <td>...</td>\n      <td>NaN</td>\n      <td>NaN</td>\n      <td>0</td>\n      <td>0</td>\n      <td>0</td>\n      <td>0</td>\n      <td>0</td>\n      <td>0</td>\n      <td>0</td>\n      <td>0</td>\n    </tr>\n    <tr>\n      <td>1</td>\n      <td>15</td>\n      <td>1.0</td>\n      <td>14.0</td>\n      <td>1.0</td>\n      <td>0.0</td>\n      <td>0.0</td>\n      <td>0.0</td>\n      <td>0.0</td>\n      <td>0.0</td>\n      <td>0.0</td>\n      <td>...</td>\n      <td>NaN</td>\n      <td>NaN</td>\n      <td>0</td>\n      <td>0</td>\n      <td>0</td>\n      <td>0</td>\n      <td>0</td>\n      <td>0</td>\n      <td>0</td>\n      <td>0</td>\n    </tr>\n    <tr>\n      <td>2</td>\n      <td>34</td>\n      <td>1.0</td>\n      <td>NaN</td>\n      <td>1.0</td>\n      <td>0.0</td>\n      <td>0.0</td>\n      <td>0.0</td>\n      <td>0.0</td>\n      <td>0.0</td>\n      <td>0.0</td>\n      <td>...</td>\n      <td>NaN</td>\n      <td>NaN</td>\n      <td>0</td>\n      <td>0</td>\n      <td>0</td>\n      <td>0</td>\n      <td>0</td>\n      <td>0</td>\n      <td>0</td>\n      <td>0</td>\n    </tr>\n    <tr>\n      <td>3</td>\n      <td>52</td>\n      <td>5.0</td>\n      <td>16.0</td>\n      <td>4.0</td>\n      <td>1.0</td>\n      <td>37.0</td>\n      <td>37.0</td>\n      <td>1.0</td>\n      <td>3.0</td>\n      <td>0.0</td>\n      <td>...</td>\n      <td>NaN</td>\n      <td>NaN</td>\n      <td>1</td>\n      <td>0</td>\n      <td>1</td>\n      <td>0</td>\n      <td>0</td>\n      <td>0</td>\n      <td>0</td>\n      <td>0</td>\n    </tr>\n    <tr>\n      <td>4</td>\n      <td>46</td>\n      <td>3.0</td>\n      <td>21.0</td>\n      <td>4.0</td>\n      <td>0.0</td>\n      <td>0.0</td>\n      <td>0.0</td>\n      <td>1.0</td>\n      <td>15.0</td>\n      <td>0.0</td>\n      <td>...</td>\n      <td>NaN</td>\n      <td>NaN</td>\n      <td>0</td>\n      <td>0</td>\n      <td>0</td>\n      <td>0</td>\n      <td>0</td>\n      <td>0</td>\n      <td>0</td>\n      <td>0</td>\n    </tr>\n  </tbody>\n</table>\n<p>5 rows × 36 columns</p>\n</div>"
     },
     "metadata": {},
     "execution_count": 2
    }
   ],
   "source": [
    "data = pd.read_csv('risk_factors_cervical_cancer.csv', na_values='?')\n",
    "data.head()"
   ]
  },
  {
   "source": [
    "Now that we have imported the dataset, the next step is to wrangle (preprocess) the dataset.\n",
    "\n",
    "## Data Wrangling\n",
    "\n",
    "Let us begin by checking for null values within our dataset."
   ],
   "cell_type": "markdown",
   "metadata": {}
  },
  {
   "cell_type": "code",
   "execution_count": 3,
   "metadata": {},
   "outputs": [
    {
     "output_type": "stream",
     "name": "stdout",
     "text": [
      "<class 'pandas.core.frame.DataFrame'>\nRangeIndex: 858 entries, 0 to 857\nData columns (total 36 columns):\nAge                                   858 non-null int64\nNumber of sexual partners             832 non-null float64\nFirst sexual intercourse              851 non-null float64\nNum of pregnancies                    802 non-null float64\nSmokes                                845 non-null float64\nSmokes (years)                        845 non-null float64\nSmokes (packs/year)                   845 non-null float64\nHormonal Contraceptives               750 non-null float64\nHormonal Contraceptives (years)       750 non-null float64\nIUD                                   741 non-null float64\nIUD (years)                           741 non-null float64\nSTDs                                  753 non-null float64\nSTDs (number)                         753 non-null float64\nSTDs:condylomatosis                   753 non-null float64\nSTDs:cervical condylomatosis          753 non-null float64\nSTDs:vaginal condylomatosis           753 non-null float64\nSTDs:vulvo-perineal condylomatosis    753 non-null float64\nSTDs:syphilis                         753 non-null float64\nSTDs:pelvic inflammatory disease      753 non-null float64\nSTDs:genital herpes                   753 non-null float64\nSTDs:molluscum contagiosum            753 non-null float64\nSTDs:AIDS                             753 non-null float64\nSTDs:HIV                              753 non-null float64\nSTDs:Hepatitis B                      753 non-null float64\nSTDs:HPV                              753 non-null float64\nSTDs: Number of diagnosis             858 non-null int64\nSTDs: Time since first diagnosis      71 non-null float64\nSTDs: Time since last diagnosis       71 non-null float64\nDx:Cancer                             858 non-null int64\nDx:CIN                                858 non-null int64\nDx:HPV                                858 non-null int64\nDx                                    858 non-null int64\nHinselmann                            858 non-null int64\nSchiller                              858 non-null int64\nCitology                              858 non-null int64\nBiopsy                                858 non-null int64\ndtypes: float64(26), int64(10)\nmemory usage: 241.4 KB\n"
     ]
    }
   ],
   "source": [
    "data.info()"
   ]
  },
  {
   "source": [
    "As per resources like MayoClinic and WebMD, the STD HPV plays a key role in bringing about the DNA mutation that might end up turning the cervical tissues cancerous. Hence, we will drop all the rows for which the STDs:HPV value is a null value (NaN).   "
   ],
   "cell_type": "markdown",
   "metadata": {}
  },
  {
   "cell_type": "code",
   "execution_count": 4,
   "metadata": {},
   "outputs": [],
   "source": [
    "# drop rows where STDs:HPV == NaN\n",
    "data_cleaned = data[data['STDs:HPV'].notna()]"
   ]
  },
  {
   "source": [
    "Now, let us drop the columns '__STDs: Time since first diagnosis__' and '__STDs: Time since last diagnosis__' since most values in these columns are null values."
   ],
   "cell_type": "markdown",
   "metadata": {}
  },
  {
   "cell_type": "code",
   "execution_count": 5,
   "metadata": {},
   "outputs": [
    {
     "output_type": "stream",
     "name": "stdout",
     "text": [
      "<class 'pandas.core.frame.DataFrame'>\nInt64Index: 753 entries, 0 to 857\nData columns (total 34 columns):\nAge                                   753 non-null int64\nNumber of sexual partners             739 non-null float64\nFirst sexual intercourse              747 non-null float64\nNum of pregnancies                    706 non-null float64\nSmokes                                743 non-null float64\nSmokes (years)                        743 non-null float64\nSmokes (packs/year)                   743 non-null float64\nHormonal Contraceptives               740 non-null float64\nHormonal Contraceptives (years)       740 non-null float64\nIUD                                   737 non-null float64\nIUD (years)                           737 non-null float64\nSTDs                                  753 non-null float64\nSTDs (number)                         753 non-null float64\nSTDs:condylomatosis                   753 non-null float64\nSTDs:cervical condylomatosis          753 non-null float64\nSTDs:vaginal condylomatosis           753 non-null float64\nSTDs:vulvo-perineal condylomatosis    753 non-null float64\nSTDs:syphilis                         753 non-null float64\nSTDs:pelvic inflammatory disease      753 non-null float64\nSTDs:genital herpes                   753 non-null float64\nSTDs:molluscum contagiosum            753 non-null float64\nSTDs:AIDS                             753 non-null float64\nSTDs:HIV                              753 non-null float64\nSTDs:Hepatitis B                      753 non-null float64\nSTDs:HPV                              753 non-null float64\nSTDs: Number of diagnosis             753 non-null int64\nDx:Cancer                             753 non-null int64\nDx:CIN                                753 non-null int64\nDx:HPV                                753 non-null int64\nDx                                    753 non-null int64\nHinselmann                            753 non-null int64\nSchiller                              753 non-null int64\nCitology                              753 non-null int64\nBiopsy                                753 non-null int64\ndtypes: float64(24), int64(10)\nmemory usage: 205.9 KB\n"
     ]
    }
   ],
   "source": [
    "data_cleaned.drop(columns=['STDs: Time since first diagnosis', 'STDs: Time since last diagnosis'], axis=1, inplace=True)\n",
    "data_cleaned.info()"
   ]
  },
  {
   "source": [
    "For the rest of the null values, we will simply replace them with the mode (highest frequent observation) of the respective columns."
   ],
   "cell_type": "markdown",
   "metadata": {}
  },
  {
   "cell_type": "code",
   "execution_count": 16,
   "metadata": {},
   "outputs": [
    {
     "output_type": "stream",
     "name": "stdout",
     "text": [
      "<class 'pandas.core.frame.DataFrame'>\nInt64Index: 753 entries, 0 to 857\nData columns (total 34 columns):\nAge                                   753 non-null int64\nNumber of sexual partners             753 non-null float64\nFirst sexual intercourse              753 non-null float64\nNum of pregnancies                    753 non-null float64\nSmokes                                753 non-null float64\nSmokes (years)                        753 non-null float64\nSmokes (packs/year)                   753 non-null float64\nHormonal Contraceptives               753 non-null float64\nHormonal Contraceptives (years)       753 non-null float64\nIUD                                   753 non-null float64\nIUD (years)                           753 non-null float64\nSTDs                                  753 non-null float64\nSTDs (number)                         753 non-null float64\nSTDs:condylomatosis                   753 non-null float64\nSTDs:cervical condylomatosis          753 non-null float64\nSTDs:vaginal condylomatosis           753 non-null float64\nSTDs:vulvo-perineal condylomatosis    753 non-null float64\nSTDs:syphilis                         753 non-null float64\nSTDs:pelvic inflammatory disease      753 non-null float64\nSTDs:genital herpes                   753 non-null float64\nSTDs:molluscum contagiosum            753 non-null float64\nSTDs:AIDS                             753 non-null float64\nSTDs:HIV                              753 non-null float64\nSTDs:Hepatitis B                      753 non-null float64\nSTDs:HPV                              753 non-null float64\nSTDs: Number of diagnosis             753 non-null int64\nDx:Cancer                             753 non-null int64\nDx:CIN                                753 non-null int64\nDx:HPV                                753 non-null int64\nDx                                    753 non-null int64\nHinselmann                            753 non-null int64\nSchiller                              753 non-null int64\nCitology                              753 non-null int64\nBiopsy                                753 non-null int64\ndtypes: float64(24), int64(10)\nmemory usage: 205.9 KB\n"
     ]
    }
   ],
   "source": [
    "values = {\n",
    "    'Number of sexual partners': data_cleaned['Number of sexual partners'].mode()[0],\n",
    "    'First sexual intercourse': data_cleaned['First sexual intercourse'].mode()[0],\n",
    "    'Num of pregnancies': data_cleaned['Num of pregnancies'].mode()[0],\n",
    "    'Smokes': data_cleaned['Smokes'].mode()[0],\n",
    "    'Smokes (years)': data_cleaned['Smokes (years)'].mode()[0],\n",
    "    'Smokes (packs/year)': data_cleaned['Smokes (packs/year)'].mode()[0],\n",
    "    'Hormonal Contraceptives': data_cleaned['Hormonal Contraceptives'].mode()[0],\n",
    "    'Hormonal Contraceptives (years)': data_cleaned['Hormonal Contraceptives (years)'].mode()[0],\n",
    "    'IUD': data_cleaned['IUD'].mode()[0],\n",
    "    'IUD (years)': data_cleaned['IUD (years)'].mode()[0],\n",
    "}\n",
    "\n",
    "data_cleaned.fillna(value=values, inplace=True)\n",
    "data_cleaned.info()"
   ]
  },
  {
   "source": [
    "With this, we have dealt with all the missing/null values within our dataset. Now, let us have a look at the statistical analysis of the data. Since there are 34 columns, we will break the statistical analysis into 2 parts."
   ],
   "cell_type": "markdown",
   "metadata": {}
  },
  {
   "source": [
    "data_cleaned.iloc[:, :17].describe()"
   ],
   "cell_type": "code",
   "metadata": {},
   "execution_count": 23,
   "outputs": [
    {
     "output_type": "execute_result",
     "data": {
      "text/plain": [
       "             Age  Number of sexual partners  First sexual intercourse  \\\n",
       "count  753.00000                 753.000000                753.000000   \n",
       "mean    27.22842                   2.519256                 17.073041   \n",
       "std      8.68086                   1.670286                  2.838513   \n",
       "min     13.00000                   1.000000                 10.000000   \n",
       "25%     21.00000                   2.000000                 15.000000   \n",
       "50%     26.00000                   2.000000                 17.000000   \n",
       "75%     33.00000                   3.000000                 18.000000   \n",
       "max     84.00000                  28.000000                 32.000000   \n",
       "\n",
       "       Num of pregnancies      Smokes  Smokes (years)  Smokes (packs/year)  \\\n",
       "count          753.000000  753.000000      753.000000           753.000000   \n",
       "mean             2.235060    0.142098        1.210974             0.458142   \n",
       "std              1.459285    0.349383        4.115163             2.286894   \n",
       "min              0.000000    0.000000        0.000000             0.000000   \n",
       "25%              1.000000    0.000000        0.000000             0.000000   \n",
       "50%              2.000000    0.000000        0.000000             0.000000   \n",
       "75%              3.000000    0.000000        0.000000             0.000000   \n",
       "max             11.000000    1.000000       37.000000            37.000000   \n",
       "\n",
       "       Hormonal Contraceptives  Hormonal Contraceptives (years)         IUD  \\\n",
       "count               753.000000                       753.000000  753.000000   \n",
       "mean                  0.644090                         2.173831    0.110226   \n",
       "std                   0.479106                         3.614502    0.313379   \n",
       "min                   0.000000                         0.000000    0.000000   \n",
       "25%                   0.000000                         0.000000    0.000000   \n",
       "50%                   1.000000                         0.420000    0.000000   \n",
       "75%                   1.000000                         3.000000    0.000000   \n",
       "max                   1.000000                        22.000000    1.000000   \n",
       "\n",
       "       IUD (years)        STDs  STDs (number)  STDs:condylomatosis  \\\n",
       "count   753.000000  753.000000     753.000000           753.000000   \n",
       "mean      0.506600    0.104914       0.176627             0.058433   \n",
       "std       1.928602    0.306646       0.561993             0.234716   \n",
       "min       0.000000    0.000000       0.000000             0.000000   \n",
       "25%       0.000000    0.000000       0.000000             0.000000   \n",
       "50%       0.000000    0.000000       0.000000             0.000000   \n",
       "75%       0.000000    0.000000       0.000000             0.000000   \n",
       "max      19.000000    1.000000       4.000000             1.000000   \n",
       "\n",
       "       STDs:cervical condylomatosis  STDs:vaginal condylomatosis  \\\n",
       "count                         753.0                   753.000000   \n",
       "mean                            0.0                     0.005312   \n",
       "std                             0.0                     0.072739   \n",
       "min                             0.0                     0.000000   \n",
       "25%                             0.0                     0.000000   \n",
       "50%                             0.0                     0.000000   \n",
       "75%                             0.0                     0.000000   \n",
       "max                             0.0                     1.000000   \n",
       "\n",
       "       STDs:vulvo-perineal condylomatosis  \n",
       "count                          753.000000  \n",
       "mean                             0.057105  \n",
       "std                              0.232197  \n",
       "min                              0.000000  \n",
       "25%                              0.000000  \n",
       "50%                              0.000000  \n",
       "75%                              0.000000  \n",
       "max                              1.000000  "
      ],
      "text/html": "<div>\n<style scoped>\n    .dataframe tbody tr th:only-of-type {\n        vertical-align: middle;\n    }\n\n    .dataframe tbody tr th {\n        vertical-align: top;\n    }\n\n    .dataframe thead th {\n        text-align: right;\n    }\n</style>\n<table border=\"1\" class=\"dataframe\">\n  <thead>\n    <tr style=\"text-align: right;\">\n      <th></th>\n      <th>Age</th>\n      <th>Number of sexual partners</th>\n      <th>First sexual intercourse</th>\n      <th>Num of pregnancies</th>\n      <th>Smokes</th>\n      <th>Smokes (years)</th>\n      <th>Smokes (packs/year)</th>\n      <th>Hormonal Contraceptives</th>\n      <th>Hormonal Contraceptives (years)</th>\n      <th>IUD</th>\n      <th>IUD (years)</th>\n      <th>STDs</th>\n      <th>STDs (number)</th>\n      <th>STDs:condylomatosis</th>\n      <th>STDs:cervical condylomatosis</th>\n      <th>STDs:vaginal condylomatosis</th>\n      <th>STDs:vulvo-perineal condylomatosis</th>\n    </tr>\n  </thead>\n  <tbody>\n    <tr>\n      <td>count</td>\n      <td>753.00000</td>\n      <td>753.000000</td>\n      <td>753.000000</td>\n      <td>753.000000</td>\n      <td>753.000000</td>\n      <td>753.000000</td>\n      <td>753.000000</td>\n      <td>753.000000</td>\n      <td>753.000000</td>\n      <td>753.000000</td>\n      <td>753.000000</td>\n      <td>753.000000</td>\n      <td>753.000000</td>\n      <td>753.000000</td>\n      <td>753.0</td>\n      <td>753.000000</td>\n      <td>753.000000</td>\n    </tr>\n    <tr>\n      <td>mean</td>\n      <td>27.22842</td>\n      <td>2.519256</td>\n      <td>17.073041</td>\n      <td>2.235060</td>\n      <td>0.142098</td>\n      <td>1.210974</td>\n      <td>0.458142</td>\n      <td>0.644090</td>\n      <td>2.173831</td>\n      <td>0.110226</td>\n      <td>0.506600</td>\n      <td>0.104914</td>\n      <td>0.176627</td>\n      <td>0.058433</td>\n      <td>0.0</td>\n      <td>0.005312</td>\n      <td>0.057105</td>\n    </tr>\n    <tr>\n      <td>std</td>\n      <td>8.68086</td>\n      <td>1.670286</td>\n      <td>2.838513</td>\n      <td>1.459285</td>\n      <td>0.349383</td>\n      <td>4.115163</td>\n      <td>2.286894</td>\n      <td>0.479106</td>\n      <td>3.614502</td>\n      <td>0.313379</td>\n      <td>1.928602</td>\n      <td>0.306646</td>\n      <td>0.561993</td>\n      <td>0.234716</td>\n      <td>0.0</td>\n      <td>0.072739</td>\n      <td>0.232197</td>\n    </tr>\n    <tr>\n      <td>min</td>\n      <td>13.00000</td>\n      <td>1.000000</td>\n      <td>10.000000</td>\n      <td>0.000000</td>\n      <td>0.000000</td>\n      <td>0.000000</td>\n      <td>0.000000</td>\n      <td>0.000000</td>\n      <td>0.000000</td>\n      <td>0.000000</td>\n      <td>0.000000</td>\n      <td>0.000000</td>\n      <td>0.000000</td>\n      <td>0.000000</td>\n      <td>0.0</td>\n      <td>0.000000</td>\n      <td>0.000000</td>\n    </tr>\n    <tr>\n      <td>25%</td>\n      <td>21.00000</td>\n      <td>2.000000</td>\n      <td>15.000000</td>\n      <td>1.000000</td>\n      <td>0.000000</td>\n      <td>0.000000</td>\n      <td>0.000000</td>\n      <td>0.000000</td>\n      <td>0.000000</td>\n      <td>0.000000</td>\n      <td>0.000000</td>\n      <td>0.000000</td>\n      <td>0.000000</td>\n      <td>0.000000</td>\n      <td>0.0</td>\n      <td>0.000000</td>\n      <td>0.000000</td>\n    </tr>\n    <tr>\n      <td>50%</td>\n      <td>26.00000</td>\n      <td>2.000000</td>\n      <td>17.000000</td>\n      <td>2.000000</td>\n      <td>0.000000</td>\n      <td>0.000000</td>\n      <td>0.000000</td>\n      <td>1.000000</td>\n      <td>0.420000</td>\n      <td>0.000000</td>\n      <td>0.000000</td>\n      <td>0.000000</td>\n      <td>0.000000</td>\n      <td>0.000000</td>\n      <td>0.0</td>\n      <td>0.000000</td>\n      <td>0.000000</td>\n    </tr>\n    <tr>\n      <td>75%</td>\n      <td>33.00000</td>\n      <td>3.000000</td>\n      <td>18.000000</td>\n      <td>3.000000</td>\n      <td>0.000000</td>\n      <td>0.000000</td>\n      <td>0.000000</td>\n      <td>1.000000</td>\n      <td>3.000000</td>\n      <td>0.000000</td>\n      <td>0.000000</td>\n      <td>0.000000</td>\n      <td>0.000000</td>\n      <td>0.000000</td>\n      <td>0.0</td>\n      <td>0.000000</td>\n      <td>0.000000</td>\n    </tr>\n    <tr>\n      <td>max</td>\n      <td>84.00000</td>\n      <td>28.000000</td>\n      <td>32.000000</td>\n      <td>11.000000</td>\n      <td>1.000000</td>\n      <td>37.000000</td>\n      <td>37.000000</td>\n      <td>1.000000</td>\n      <td>22.000000</td>\n      <td>1.000000</td>\n      <td>19.000000</td>\n      <td>1.000000</td>\n      <td>4.000000</td>\n      <td>1.000000</td>\n      <td>0.0</td>\n      <td>1.000000</td>\n      <td>1.000000</td>\n    </tr>\n  </tbody>\n</table>\n</div>"
     },
     "metadata": {},
     "execution_count": 23
    }
   ]
  },
  {
   "cell_type": "code",
   "execution_count": 24,
   "metadata": {},
   "outputs": [
    {
     "output_type": "execute_result",
     "data": {
      "text/plain": [
       "       STDs:syphilis  STDs:pelvic inflammatory disease  STDs:genital herpes  \\\n",
       "count     753.000000                        753.000000           753.000000   \n",
       "mean        0.023904                          0.001328             0.001328   \n",
       "std         0.152853                          0.036442             0.036442   \n",
       "min         0.000000                          0.000000             0.000000   \n",
       "25%         0.000000                          0.000000             0.000000   \n",
       "50%         0.000000                          0.000000             0.000000   \n",
       "75%         0.000000                          0.000000             0.000000   \n",
       "max         1.000000                          1.000000             1.000000   \n",
       "\n",
       "       STDs:molluscum contagiosum  STDs:AIDS    STDs:HIV  STDs:Hepatitis B  \\\n",
       "count                  753.000000      753.0  753.000000        753.000000   \n",
       "mean                     0.001328        0.0    0.023904          0.001328   \n",
       "std                      0.036442        0.0    0.152853          0.036442   \n",
       "min                      0.000000        0.0    0.000000          0.000000   \n",
       "25%                      0.000000        0.0    0.000000          0.000000   \n",
       "50%                      0.000000        0.0    0.000000          0.000000   \n",
       "75%                      0.000000        0.0    0.000000          0.000000   \n",
       "max                      1.000000        0.0    1.000000          1.000000   \n",
       "\n",
       "         STDs:HPV  STDs: Number of diagnosis   Dx:Cancer      Dx:CIN  \\\n",
       "count  753.000000                 753.000000  753.000000  753.000000   \n",
       "mean     0.002656                   0.099602    0.023904    0.010624   \n",
       "std      0.051503                   0.321089    0.152853    0.102593   \n",
       "min      0.000000                   0.000000    0.000000    0.000000   \n",
       "25%      0.000000                   0.000000    0.000000    0.000000   \n",
       "50%      0.000000                   0.000000    0.000000    0.000000   \n",
       "75%      0.000000                   0.000000    0.000000    0.000000   \n",
       "max      1.000000                   3.000000    1.000000    1.000000   \n",
       "\n",
       "           Dx:HPV          Dx  Hinselmann    Schiller    Citology      Biopsy  \n",
       "count  753.000000  753.000000  753.000000  753.000000  753.000000  753.000000  \n",
       "mean     0.023904    0.030544    0.046481    0.096946    0.054449    0.070385  \n",
       "std      0.152853    0.172194    0.210664    0.296080    0.227052    0.255965  \n",
       "min      0.000000    0.000000    0.000000    0.000000    0.000000    0.000000  \n",
       "25%      0.000000    0.000000    0.000000    0.000000    0.000000    0.000000  \n",
       "50%      0.000000    0.000000    0.000000    0.000000    0.000000    0.000000  \n",
       "75%      0.000000    0.000000    0.000000    0.000000    0.000000    0.000000  \n",
       "max      1.000000    1.000000    1.000000    1.000000    1.000000    1.000000  "
      ],
      "text/html": "<div>\n<style scoped>\n    .dataframe tbody tr th:only-of-type {\n        vertical-align: middle;\n    }\n\n    .dataframe tbody tr th {\n        vertical-align: top;\n    }\n\n    .dataframe thead th {\n        text-align: right;\n    }\n</style>\n<table border=\"1\" class=\"dataframe\">\n  <thead>\n    <tr style=\"text-align: right;\">\n      <th></th>\n      <th>STDs:syphilis</th>\n      <th>STDs:pelvic inflammatory disease</th>\n      <th>STDs:genital herpes</th>\n      <th>STDs:molluscum contagiosum</th>\n      <th>STDs:AIDS</th>\n      <th>STDs:HIV</th>\n      <th>STDs:Hepatitis B</th>\n      <th>STDs:HPV</th>\n      <th>STDs: Number of diagnosis</th>\n      <th>Dx:Cancer</th>\n      <th>Dx:CIN</th>\n      <th>Dx:HPV</th>\n      <th>Dx</th>\n      <th>Hinselmann</th>\n      <th>Schiller</th>\n      <th>Citology</th>\n      <th>Biopsy</th>\n    </tr>\n  </thead>\n  <tbody>\n    <tr>\n      <td>count</td>\n      <td>753.000000</td>\n      <td>753.000000</td>\n      <td>753.000000</td>\n      <td>753.000000</td>\n      <td>753.0</td>\n      <td>753.000000</td>\n      <td>753.000000</td>\n      <td>753.000000</td>\n      <td>753.000000</td>\n      <td>753.000000</td>\n      <td>753.000000</td>\n      <td>753.000000</td>\n      <td>753.000000</td>\n      <td>753.000000</td>\n      <td>753.000000</td>\n      <td>753.000000</td>\n      <td>753.000000</td>\n    </tr>\n    <tr>\n      <td>mean</td>\n      <td>0.023904</td>\n      <td>0.001328</td>\n      <td>0.001328</td>\n      <td>0.001328</td>\n      <td>0.0</td>\n      <td>0.023904</td>\n      <td>0.001328</td>\n      <td>0.002656</td>\n      <td>0.099602</td>\n      <td>0.023904</td>\n      <td>0.010624</td>\n      <td>0.023904</td>\n      <td>0.030544</td>\n      <td>0.046481</td>\n      <td>0.096946</td>\n      <td>0.054449</td>\n      <td>0.070385</td>\n    </tr>\n    <tr>\n      <td>std</td>\n      <td>0.152853</td>\n      <td>0.036442</td>\n      <td>0.036442</td>\n      <td>0.036442</td>\n      <td>0.0</td>\n      <td>0.152853</td>\n      <td>0.036442</td>\n      <td>0.051503</td>\n      <td>0.321089</td>\n      <td>0.152853</td>\n      <td>0.102593</td>\n      <td>0.152853</td>\n      <td>0.172194</td>\n      <td>0.210664</td>\n      <td>0.296080</td>\n      <td>0.227052</td>\n      <td>0.255965</td>\n    </tr>\n    <tr>\n      <td>min</td>\n      <td>0.000000</td>\n      <td>0.000000</td>\n      <td>0.000000</td>\n      <td>0.000000</td>\n      <td>0.0</td>\n      <td>0.000000</td>\n      <td>0.000000</td>\n      <td>0.000000</td>\n      <td>0.000000</td>\n      <td>0.000000</td>\n      <td>0.000000</td>\n      <td>0.000000</td>\n      <td>0.000000</td>\n      <td>0.000000</td>\n      <td>0.000000</td>\n      <td>0.000000</td>\n      <td>0.000000</td>\n    </tr>\n    <tr>\n      <td>25%</td>\n      <td>0.000000</td>\n      <td>0.000000</td>\n      <td>0.000000</td>\n      <td>0.000000</td>\n      <td>0.0</td>\n      <td>0.000000</td>\n      <td>0.000000</td>\n      <td>0.000000</td>\n      <td>0.000000</td>\n      <td>0.000000</td>\n      <td>0.000000</td>\n      <td>0.000000</td>\n      <td>0.000000</td>\n      <td>0.000000</td>\n      <td>0.000000</td>\n      <td>0.000000</td>\n      <td>0.000000</td>\n    </tr>\n    <tr>\n      <td>50%</td>\n      <td>0.000000</td>\n      <td>0.000000</td>\n      <td>0.000000</td>\n      <td>0.000000</td>\n      <td>0.0</td>\n      <td>0.000000</td>\n      <td>0.000000</td>\n      <td>0.000000</td>\n      <td>0.000000</td>\n      <td>0.000000</td>\n      <td>0.000000</td>\n      <td>0.000000</td>\n      <td>0.000000</td>\n      <td>0.000000</td>\n      <td>0.000000</td>\n      <td>0.000000</td>\n      <td>0.000000</td>\n    </tr>\n    <tr>\n      <td>75%</td>\n      <td>0.000000</td>\n      <td>0.000000</td>\n      <td>0.000000</td>\n      <td>0.000000</td>\n      <td>0.0</td>\n      <td>0.000000</td>\n      <td>0.000000</td>\n      <td>0.000000</td>\n      <td>0.000000</td>\n      <td>0.000000</td>\n      <td>0.000000</td>\n      <td>0.000000</td>\n      <td>0.000000</td>\n      <td>0.000000</td>\n      <td>0.000000</td>\n      <td>0.000000</td>\n      <td>0.000000</td>\n    </tr>\n    <tr>\n      <td>max</td>\n      <td>1.000000</td>\n      <td>1.000000</td>\n      <td>1.000000</td>\n      <td>1.000000</td>\n      <td>0.0</td>\n      <td>1.000000</td>\n      <td>1.000000</td>\n      <td>1.000000</td>\n      <td>3.000000</td>\n      <td>1.000000</td>\n      <td>1.000000</td>\n      <td>1.000000</td>\n      <td>1.000000</td>\n      <td>1.000000</td>\n      <td>1.000000</td>\n      <td>1.000000</td>\n      <td>1.000000</td>\n    </tr>\n  </tbody>\n</table>\n</div>"
     },
     "metadata": {},
     "execution_count": 24
    }
   ],
   "source": [
    "data_cleaned.iloc[:, 17:].describe()"
   ]
  },
  {
   "cell_type": "code",
   "execution_count": null,
   "metadata": {},
   "outputs": [],
   "source": []
  }
 ]
}